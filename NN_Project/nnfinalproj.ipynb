{
 "cells": [
  {
   "cell_type": "code",
   "execution_count": 1,
   "id": "feadea21-c3e6-46fe-bfb4-b8e44e2d2bd2",
   "metadata": {},
   "outputs": [],
   "source": [
    "#import torch.nn as nn\n",
    "#import torch\n",
    "import csv\n",
    "import numpy as np\n",
    "import matplotlib.pyplot as plt\n",
    "import random\n",
    "import perceptron as per\n",
    "import FFBP\n",
    "import method as m\n",
    "import networkLayer as nl\n"
   ]
  },
  {
   "cell_type": "markdown",
   "id": "d8e2973c-965f-48de-8ded-c0f1113a6d69",
   "metadata": {},
   "source": [
    "## Aurora PA7"
   ]
  },
  {
   "cell_type": "code",
   "execution_count": 2,
   "id": "aa0e4fb2-30f9-4e3d-8555-fe73c3fe9731",
   "metadata": {},
   "outputs": [
    {
     "name": "stdout",
     "output_type": "stream",
     "text": [
      "[{'Inputs': [0.9, 0.87], 'Output': [1.0]}, {'Inputs': [1.31, 0.75], 'Output': [1.0]}, {'Inputs': [2.48, 1.14], 'Output': [0.0]}, {'Inputs': [0.41, 1.87], 'Output': [0.0]}, {'Inputs': [2.45, 0.52], 'Output': [0.0]}, {'Inputs': [2.54, 2.97], 'Output': [1.0]}, {'Inputs': [0.07, 0.09], 'Output': [1.0]}, {'Inputs': [1.32, 1.96], 'Output': [0.0]}, {'Inputs': [0.94, 0.34], 'Output': [1.0]}, {'Inputs': [1.75, 2.21], 'Output': [0.0]}]\n",
      "[{'Inputs': [1.81, 1.02], 'Output': [0.0]}, {'Inputs': [2.36, 1.6], 'Output': [0.0]}, {'Inputs': [2.17, 2.08], 'Output': [1.0]}, {'Inputs': [2.85, 2.91], 'Output': [1.0]}, {'Inputs': [1.05, 1.93], 'Output': [0.0]}, {'Inputs': [2.32, 1.73], 'Output': [0.0]}, {'Inputs': [1.86, 1.31], 'Output': [0.0]}, {'Inputs': [1.45, 2.19], 'Output': [0.0]}, {'Inputs': [0.28, 0.71], 'Output': [1.0]}, {'Inputs': [2.49, 1.52], 'Output': [0.0]}]\n"
     ]
    }
   ],
   "source": [
    "train = []\n",
    "test = []\n",
    "\n",
    "with open('nnfinaldataset.csv') as f:\n",
    "    reader = csv.DictReader(f)\n",
    "    for entry in reader:\n",
    "        input_vector = [float(entry['LAC']), float(entry['SOW'])]\n",
    "        output_vector = [float(entry['TACA'])]\n",
    "        new_entry = {\"Inputs\": input_vector, \"Output\": output_vector}\n",
    "        if int(entry[\"Data Item\"]) % 2:\n",
    "            train.append(new_entry)\n",
    "        else:\n",
    "            test.append(new_entry)\n",
    "print(train)\n",
    "print(test)\n"
   ]
  },
  {
   "cell_type": "code",
   "execution_count": 3,
   "id": "a82e9a60-3510-4be8-9970-9989650cadfe",
   "metadata": {},
   "outputs": [],
   "source": [
    "def method_1_aurora(network, dataset,  eta=1, iters=15):\n",
    "    for _ in range(iters):\n",
    "        for entry in dataset:\n",
    "            inputs = entry[\"Inputs\"]\n",
    "            outputs = entry[\"Output\"]\n",
    "            network.train_step(inputs, eta, outputs)\n"
   ]
  },
  {
   "cell_type": "code",
   "execution_count": 4,
   "id": "4b7a9cff-2293-4d27-a28a-b525f01ab22a",
   "metadata": {},
   "outputs": [],
   "source": [
    "def create_network_aurora(random_weights=False):\n",
    "    if not random_weights:\n",
    "        weights_hidden = [0.3, 0.3, 0.3, 0.3]\n",
    "        weights_output = [0.8, 0.8]\n",
    "    else:\n",
    "        weights_hidden = [random.uniform(-1, 1) for _ in range(4)]\n",
    "        weights_output = [random.uniform(-1, 1) for _ in range(2)]\n",
    "    hidden_layer = nl.NodeLayer(2, weights_hidden, 0)\n",
    "    output_layer = nl.NodeLayer(1, weights_output, 0)\n",
    "\n",
    "    nn1 = FFBP.Network(hidden_layer, output_layer)\n",
    "    return nn1"
   ]
  },
  {
   "cell_type": "code",
   "execution_count": 5,
   "id": "1a1f47f1",
   "metadata": {},
   "outputs": [],
   "source": [
    "def create_perceptron(eta: float, random_weights=False):\n",
    "    # Inputs and Ouput layer\n",
    "    if not random_weights: \n",
    "        weights = [0.3, 0.3]\n",
    "    else:\n",
    "        weights = [random.uniform(-1, 1) for _ in range(2)]\n",
    "    # Create nn1\n",
    "    return FFBP.Simple_Perceptron(weights, 0, eta)"
   ]
  },
  {
   "cell_type": "code",
   "execution_count": 6,
   "id": "a5389589-23cb-4cb9-9e07-6410e27c8c4a",
   "metadata": {},
   "outputs": [],
   "source": [
    "def threshhold(value, threshold):\n",
    "    if value >= threshold:\n",
    "        return 1\n",
    "    else:\n",
    "        return 0"
   ]
  },
  {
   "cell_type": "code",
   "execution_count": 7,
   "id": "e217e952-2a69-4738-b394-2ec40d856ec3",
   "metadata": {},
   "outputs": [],
   "source": [
    "def find_threshold(nn1, dataset): \n",
    "    max_thresh = 0 \n",
    "    max_num_correct = 0\n",
    "    for thresh in np.linspace(0, 1, 1000):\n",
    "        curr_num_correct = 0\n",
    "        \n",
    "        for entry in dataset:\n",
    "            inputs = entry[\"Inputs\"]\n",
    "            outputs = entry[\"Output\"]\n",
    "            if nn1.feed_forward(inputs)[0] > thresh:\n",
    "                tmp_output = 1\n",
    "            else:\n",
    "                tmp_output = 0\n",
    "            if tmp_output == outputs[0]: \n",
    "                curr_num_correct += 1\n",
    "        if curr_num_correct > max_num_correct:\n",
    "            max_thresh = thresh\n",
    "            max_num_correct = curr_num_correct\n",
    "   \n",
    "    return max_thresh, max_num_correct"
   ]
  },
  {
   "cell_type": "code",
   "execution_count": 8,
   "id": "8922af48-c29c-4317-9390-2eadc97fb063",
   "metadata": {},
   "outputs": [],
   "source": [
    "def calc_rocs(nn1, dataset):\n",
    "    fn = 0\n",
    "    fp = 0\n",
    "    tp = 0 \n",
    "    tn = 0 \n",
    "    for entry in dataset:\n",
    "        inputs = entry[\"Inputs\"]\n",
    "        outputs = entry[\"Output\"]\n",
    "        if nn1.evaluate(inputs) == 0 and outputs[0] == 0:\n",
    "            tn += 1\n",
    "        if nn1.evaluate(inputs) == 1 and outputs[0] == 1:\n",
    "            tp += 1\n",
    "        if nn1.evaluate(inputs) == 1 and outputs[0] == 0:\n",
    "            fp += 1\n",
    "        if nn1.evaluate(inputs) == 0 and outputs[0] == 1:\n",
    "            fn += 1\n",
    "    rocs = {\"fn\": fn, \"fp\": fp, \"tp\": tp, \"tn\": tn}\n",
    "    return rocs"
   ]
  },
  {
   "cell_type": "code",
   "execution_count": 19,
   "id": "1c871a77",
   "metadata": {},
   "outputs": [
    {
     "name": "stdout",
     "output_type": "stream",
     "text": [
      "{'fn': 3, 'fp': 0, 'tp': 0, 'tn': 7}\n"
     ]
    }
   ],
   "source": [
    "# Train Simple Perceptron \n",
    "iterations = 1000\n",
    "# Create Simple Perceptron \n",
    "eta = 3\n",
    "simple_nn = create_perceptron(eta, random_weights=True)\n",
    "# Train Perceptron \n",
    "inputs = [entry[\"Inputs\"] for entry in train]\n",
    "outputs = [entry[\"Output\"][0] for entry in train]\n",
    "simple_nn.train(train, iterations)\n",
    "threshold_logic = FFBP.Threshold(simple_nn, train)\n",
    "print(calc_rocs(threshold_logic, test))"
   ]
  },
  {
   "cell_type": "code",
   "execution_count": 10,
   "id": "efa3b756-593a-4a91-93d9-65a06b084330",
   "metadata": {},
   "outputs": [
    {
     "name": "stdout",
     "output_type": "stream",
     "text": [
      "{'fn': 2, 'fp': 0, 'tp': 1, 'tn': 7}\n"
     ]
    }
   ],
   "source": [
    "nn1 = create_network_aurora()\n",
    "nn1.train(train, iters=30)\n",
    "\n",
    "threshold_logic = FFBP.Threshold(nn1, train)\n",
    "\n",
    "print(calc_rocs(threshold_logic, test))\n",
    "#for entry in test:\n",
    "#    inputs = entry[\"Inputs\"]\n",
    "#    outputs = entry[\"Output\"]\n",
    "#    print(threshhold(nn1.feed_forward(inputs)[0], thresh) == outputs[0])"
   ]
  },
  {
   "cell_type": "code",
   "execution_count": 11,
   "id": "50295fd6-07ae-41d1-bee1-05e85c7f9d97",
   "metadata": {},
   "outputs": [
    {
     "name": "stdout",
     "output_type": "stream",
     "text": [
      "====================\n",
      "{'fn': 0, 'fp': 0, 'tp': 3, 'tn': 7}\n",
      "====================\n",
      "====================\n",
      "====================\n",
      "====================\n",
      "====================\n",
      "====================\n",
      "====================\n",
      "====================\n",
      "====================\n",
      "====================\n",
      "====================\n",
      "====================\n",
      "====================\n",
      "====================\n",
      "{'fn': 0, 'fp': 0, 'tp': 3, 'tn': 7}\n",
      "====================\n",
      "====================\n",
      "====================\n",
      "====================\n",
      "====================\n",
      "====================\n",
      "====================\n",
      "====================\n",
      "====================\n",
      "====================\n",
      "{'fn': 0, 'fp': 1, 'tp': 3, 'tn': 6}\n",
      "====================\n",
      "====================\n",
      "====================\n",
      "====================\n",
      "====================\n",
      "====================\n",
      "====================\n",
      "====================\n",
      "====================\n",
      "====================\n",
      "====================\n",
      "====================\n",
      "====================\n",
      "====================\n",
      "{'fn': 0, 'fp': 3, 'tp': 3, 'tn': 4}\n",
      "====================\n"
     ]
    }
   ],
   "source": [
    "\n",
    "for i in range(20):\n",
    "    print(\"=\"*20)\n",
    "    nn1 = create_network_aurora(True)\n",
    "    nn1.train(train, iters=1200)\n",
    "    threshold_logic = FFBP.Threshold(nn1, train)\n",
    "    \n",
    "    #print(rocs)\n",
    "    if threshold_logic.correct == 10:\n",
    "        #print(nn1, thresh)\n",
    "        print(calc_rocs(threshold_logic, test))\n",
    "        #for entry in test:\n",
    "        #    inputs = entry[\"Inputs\"]\n",
    "         #   outputs = entry[\"Output\"]\n",
    "         #   print(threshhold(nn1.feed_forward(inputs)[0], thresh) == outputs[0])\n",
    "    print(\"=\"*20) "
   ]
  },
  {
   "cell_type": "markdown",
   "id": "8f7c80fe-deb1-4118-ae2f-8f486052e354",
   "metadata": {},
   "source": [
    "## pytorch tests"
   ]
  },
  {
   "cell_type": "code",
   "execution_count": 8,
   "id": "4be38baf-be85-4bad-8b60-4b2da6b28043",
   "metadata": {},
   "outputs": [
    {
     "name": "stdout",
     "output_type": "stream",
     "text": [
      "[{'Inputs': tensor([0.9000, 0.8700], dtype=torch.float64), 'Output': tensor([1.], dtype=torch.float64)}, {'Inputs': tensor([1.3100, 0.7500], dtype=torch.float64), 'Output': tensor([1.], dtype=torch.float64)}, {'Inputs': tensor([2.4800, 1.1400], dtype=torch.float64), 'Output': tensor([0.], dtype=torch.float64)}, {'Inputs': tensor([0.4100, 1.8700], dtype=torch.float64), 'Output': tensor([0.], dtype=torch.float64)}, {'Inputs': tensor([2.4500, 0.5200], dtype=torch.float64), 'Output': tensor([0.], dtype=torch.float64)}, {'Inputs': tensor([2.5400, 2.9700], dtype=torch.float64), 'Output': tensor([1.], dtype=torch.float64)}, {'Inputs': tensor([0.0700, 0.0900], dtype=torch.float64), 'Output': tensor([1.], dtype=torch.float64)}, {'Inputs': tensor([1.3200, 1.9600], dtype=torch.float64), 'Output': tensor([0.], dtype=torch.float64)}, {'Inputs': tensor([0.9400, 0.3400], dtype=torch.float64), 'Output': tensor([1.], dtype=torch.float64)}, {'Inputs': tensor([1.7500, 2.2100], dtype=torch.float64), 'Output': tensor([0.], dtype=torch.float64)}]\n",
      "[{'Inputs': tensor([1.8100, 1.0200], dtype=torch.float64), 'Output': tensor([0.], dtype=torch.float64)}, {'Inputs': tensor([2.3600, 1.6000], dtype=torch.float64), 'Output': tensor([0.], dtype=torch.float64)}, {'Inputs': tensor([2.1700, 2.0800], dtype=torch.float64), 'Output': tensor([1.], dtype=torch.float64)}, {'Inputs': tensor([2.8500, 2.9100], dtype=torch.float64), 'Output': tensor([1.], dtype=torch.float64)}, {'Inputs': tensor([1.0500, 1.9300], dtype=torch.float64), 'Output': tensor([0.], dtype=torch.float64)}, {'Inputs': tensor([2.3200, 1.7300], dtype=torch.float64), 'Output': tensor([0.], dtype=torch.float64)}, {'Inputs': tensor([1.8600, 1.3100], dtype=torch.float64), 'Output': tensor([0.], dtype=torch.float64)}, {'Inputs': tensor([1.4500, 2.1900], dtype=torch.float64), 'Output': tensor([0.], dtype=torch.float64)}, {'Inputs': tensor([0.2800, 0.7100], dtype=torch.float64), 'Output': tensor([1.], dtype=torch.float64)}, {'Inputs': tensor([2.4900, 1.5200], dtype=torch.float64), 'Output': tensor([0.], dtype=torch.float64)}]\n"
     ]
    }
   ],
   "source": [
    "train = []\n",
    "test = []\n",
    "\n",
    "with open('nnfinaldataset.csv') as f:\n",
    "    reader = csv.DictReader(f)\n",
    "    for entry in reader:\n",
    "        input_vector = torch.tensor([float(entry['LAC']), float(entry['SOW'])], dtype=float)\n",
    "        output_vector = torch.tensor([float(entry['TACA'])], dtype=float)\n",
    "        new_entry = {\"Inputs\": input_vector, \"Output\": output_vector}\n",
    "        if int(entry[\"Data Item\"]) % 2:\n",
    "            train.append(new_entry)\n",
    "        else:\n",
    "            test.append(new_entry)\n",
    "print(train)\n",
    "print(test)"
   ]
  },
  {
   "cell_type": "code",
   "execution_count": 9,
   "id": "d9638fc4-4b46-44ec-8824-38fa3ca140ad",
   "metadata": {},
   "outputs": [],
   "source": [
    "input_1 = torch.tensor([1, 1], dtype=float)\n",
    "output_1 = torch.tensor([0.9], dtype=float)\n",
    "input_2 = torch.tensor([-1, -1], dtype=float)\n",
    "output_2 = torch.tensor([0.05], dtype=float)\n",
    "input_3 = torch.tensor([1, 2], dtype=float)\n",
    "output_3 = torch.tensor([0.7], dtype=float)"
   ]
  },
  {
   "cell_type": "code",
   "execution_count": 10,
   "id": "72a5292b-1bfb-4799-8ad0-1b20ee20b9dc",
   "metadata": {},
   "outputs": [],
   "source": [
    "def create_network(enable_bias=True):\n",
    "    layer1 = nn.Linear(2,2, dtype=float, bias=enable_bias)\n",
    "    if  enable_bias:\n",
    "        nn.init.constant_(layer1.bias, 0.0)\n",
    "    nn.init.constant_(layer1.weight, 0.3)\n",
    "    layer2 = nn.Linear(2,1, dtype=float, bias=enable_bias) \n",
    "    nn.init.constant_(layer2.weight, 0.8)\n",
    "    if enable_bias:\n",
    "        nn.init.constant_(layer2.bias, 0.0)\n",
    "    model = nn.Sequential(layer1, nn.Sigmoid(), layer2, nn.Sigmoid())\n",
    "    return model"
   ]
  },
  {
   "cell_type": "code",
   "execution_count": 11,
   "id": "0a44a599-0806-4fdb-a28a-b9578cfab677",
   "metadata": {},
   "outputs": [],
   "source": [
    "def loss_func(desired, expected):\n",
    "    return 0.5*(desired - expected)**2"
   ]
  },
  {
   "cell_type": "code",
   "execution_count": 12,
   "id": "3689ef88-88ba-4011-a18b-79bcf4d57ee5",
   "metadata": {},
   "outputs": [],
   "source": [
    "def train_atom(model, input_, desired, loss_func):\n",
    "    for param in model.parameters():\n",
    "        param.grad = None\n",
    "    output = model(input_)\n",
    "    loss = loss_func(desired, output)\n",
    "    loss.backward()\n",
    "    for param in model.parameters():\n",
    "        param.data -= param.grad"
   ]
  },
  {
   "cell_type": "code",
   "execution_count": 13,
   "id": "3b949ba1-c8eb-439d-8fe6-7e00da7bec48",
   "metadata": {},
   "outputs": [],
   "source": [
    "def method1(model, dataset, loss_func, iters=15):\n",
    "    for _ in range(iters):\n",
    "        for entry in dataset:\n",
    "            inputs = entry[\"Inputs\"]\n",
    "            output = entry[\"Output\"]\n",
    "            train_atom(model, inputs, output, loss_func)"
   ]
  },
  {
   "cell_type": "code",
   "execution_count": 14,
   "id": "85c8c92b-b531-4ecb-b06f-0e28276bbe3d",
   "metadata": {},
   "outputs": [],
   "source": [
    "def method2(model, dataset, loss_func, iters=15):\n",
    "    for entry in dataset:\n",
    "        for _ in range(iters):\n",
    "            inputs = entry[\"Inputs\"]\n",
    "            output = entry[\"Output\"]\n",
    "            train_atom(model, inputs, output, loss_func)\n",
    "    "
   ]
  },
  {
   "cell_type": "code",
   "execution_count": 15,
   "id": "a7fdce70-2ebd-4af1-9868-776607bf2ab0",
   "metadata": {},
   "outputs": [
    {
     "data": {
      "text/plain": [
       "tensor([0.3818], dtype=torch.float64, grad_fn=<SigmoidBackward0>)"
      ]
     },
     "execution_count": 15,
     "metadata": {},
     "output_type": "execute_result"
    }
   ],
   "source": [
    "# test\n",
    "model = create_network()\n",
    "dataset = [{\"Inputs\": input_1, \"Output\": output_1}, \n",
    "           {\"Inputs\": input_2, \"Output\": output_2}]\n",
    "method1(model, dataset, loss_func)\n",
    "model(input_1)\n",
    "model(input_2)"
   ]
  },
  {
   "cell_type": "code",
   "execution_count": 16,
   "id": "db453ac8-3162-45eb-92bc-735d2647d217",
   "metadata": {},
   "outputs": [
    {
     "data": {
      "text/plain": [
       "tensor([0.2838], dtype=torch.float64, grad_fn=<SigmoidBackward0>)"
      ]
     },
     "execution_count": 16,
     "metadata": {},
     "output_type": "execute_result"
    }
   ],
   "source": [
    "model = create_network()\n",
    "method2(model, dataset, loss_func)\n",
    "model(input_1)\n",
    "model(input_2)"
   ]
  },
  {
   "cell_type": "code",
   "execution_count": 17,
   "id": "d24d0313-6bb7-4274-8075-68b635590cd5",
   "metadata": {},
   "outputs": [
    {
     "name": "stdout",
     "output_type": "stream",
     "text": [
      "tensor([0.2736], dtype=torch.float64, grad_fn=<SigmoidBackward0>)\n",
      "tensor([0.2631], dtype=torch.float64, grad_fn=<SigmoidBackward0>)\n",
      "tensor([0.2603], dtype=torch.float64, grad_fn=<SigmoidBackward0>)\n",
      "tensor([0.2514], dtype=torch.float64, grad_fn=<SigmoidBackward0>)\n",
      "tensor([0.2703], dtype=torch.float64, grad_fn=<SigmoidBackward0>)\n",
      "tensor([0.2622], dtype=torch.float64, grad_fn=<SigmoidBackward0>)\n",
      "tensor([0.2699], dtype=torch.float64, grad_fn=<SigmoidBackward0>)\n",
      "tensor([0.2644], dtype=torch.float64, grad_fn=<SigmoidBackward0>)\n",
      "tensor([0.2949], dtype=torch.float64, grad_fn=<SigmoidBackward0>)\n",
      "tensor([0.2629], dtype=torch.float64, grad_fn=<SigmoidBackward0>)\n"
     ]
    }
   ],
   "source": [
    "model1 = create_network()\n",
    "method2(model1, train, loss_func, iters=15)\n",
    "for entry in test:\n",
    "    inputs = entry[\"Inputs\"]\n",
    "    outputs = entry[\"Output\"]\n",
    "    print(model1(inputs))"
   ]
  },
  {
   "cell_type": "code",
   "execution_count": 18,
   "id": "2a083303-fdcb-4bb5-8cda-010b856b065b",
   "metadata": {},
   "outputs": [
    {
     "name": "stdout",
     "output_type": "stream",
     "text": [
      "tensor([0.2736], dtype=torch.float64, grad_fn=<SigmoidBackward0>)\n",
      "tensor([0.2631], dtype=torch.float64, grad_fn=<SigmoidBackward0>)\n",
      "tensor([0.2603], dtype=torch.float64, grad_fn=<SigmoidBackward0>)\n",
      "tensor([0.2514], dtype=torch.float64, grad_fn=<SigmoidBackward0>)\n",
      "tensor([0.2703], dtype=torch.float64, grad_fn=<SigmoidBackward0>)\n",
      "tensor([0.2622], dtype=torch.float64, grad_fn=<SigmoidBackward0>)\n",
      "tensor([0.2699], dtype=torch.float64, grad_fn=<SigmoidBackward0>)\n",
      "tensor([0.2644], dtype=torch.float64, grad_fn=<SigmoidBackward0>)\n",
      "tensor([0.2949], dtype=torch.float64, grad_fn=<SigmoidBackward0>)\n",
      "tensor([0.2629], dtype=torch.float64, grad_fn=<SigmoidBackward0>)\n",
      "9 0.2772772772772773\n"
     ]
    },
    {
     "data": {
      "image/png": "[encoded data removed]",
      "text/plain": [
       "<Figure size 640x480 with 1 Axes>"
      ]
     },
     "metadata": {},
     "output_type": "display_data"
    },
    {
     "name": "stdout",
     "output_type": "stream",
     "text": [
      "tensor([2.1700, 2.0800], dtype=torch.float64) tensor([1.], dtype=torch.float64) tensor([0.2603], dtype=torch.float64, grad_fn=<SigmoidBackward0>)\n",
      "tensor([2.8500, 2.9100], dtype=torch.float64) tensor([1.], dtype=torch.float64) tensor([0.2514], dtype=torch.float64, grad_fn=<SigmoidBackward0>)\n",
      "8\n"
     ]
    }
   ],
   "source": [
    "model1 = create_network()\n",
    "method2(model1, train, loss_func, iters=15)\n",
    "for entry in test:\n",
    "    inputs = entry[\"Inputs\"]\n",
    "    outputs = entry[\"Output\"]\n",
    "    print(model1(inputs))\n",
    "\n",
    "threshold_vals = np.linspace(0, 1, 1000)\n",
    "tps = []\n",
    "max_correct = 0\n",
    "max_threshold = 0\n",
    "for threshold in threshold_vals:\n",
    "    correct = 0\n",
    "    for value in train:\n",
    "        inputs = value[\"Inputs\"]\n",
    "        output = value[\"Output\"]\n",
    "        network_output = model1(inputs)\n",
    "        if network_output[0].item() > threshold and output[0].item() == 1.0:\n",
    "            correct += 1\n",
    "        if network_output[0].item() <= threshold and output[0].item() == 0.0: \n",
    "            correct += 1\n",
    "    if correct > max_correct:\n",
    "        max_correct = correct\n",
    "        max_threshold = threshold\n",
    "    tps.append(correct)\n",
    "print(max_correct, max_threshold)\n",
    "plt.plot(threshold_vals, tps)\n",
    "plt.show()\n",
    "correct = 0\n",
    "for value in test:\n",
    "    inputs = value[\"Inputs\"]\n",
    "    output = value[\"Output\"]\n",
    "    network_output = model1(inputs)\n",
    "    if network_output[0].item() > max_threshold and output[0].item() == 1.0:\n",
    "        correct += 1\n",
    "    elif network_output[0].item() <= max_threshold and output[0].item() == 0.0: \n",
    "        correct += 1\n",
    "    else: \n",
    "        print(inputs, output, network_output)\n",
    "print(correct)"
   ]
  },
  {
   "cell_type": "code",
   "execution_count": 19,
   "id": "dbb8dadb-7de2-4e8c-ac43-a49d50fd82f3",
   "metadata": {},
   "outputs": [
    {
     "name": "stdout",
     "output_type": "stream",
     "text": [
      "8 0.2828282828282829\n"
     ]
    },
    {
     "data": {
      "image/png": "[encoded data removed]",
      "text/plain": [
       "<Figure size 640x480 with 1 Axes>"
      ]
     },
     "metadata": {},
     "output_type": "display_data"
    }
   ],
   "source": [
    "model2 = create_network()\n",
    "method2(model2, train, loss_func, iters=15)\n",
    "threshold_vals = np.linspace(0, 1, 100)\n",
    "tps = []\n",
    "max_correct = 0\n",
    "max_threshold = 0\n",
    "for threshold in threshold_vals:\n",
    "    correct = 0\n",
    "    for value in train:\n",
    "        inputs = value[\"Inputs\"]\n",
    "        output = value[\"Output\"]\n",
    "        network_output = model2(inputs)\n",
    "        if network_output[0].item() > threshold and output[0].item() == 1.0:\n",
    "            correct += 1\n",
    "        if network_output[0].item() <= threshold and output[0].item() == 0.0: \n",
    "            correct += 1\n",
    "    if correct > max_correct:\n",
    "        max_correct = correct\n",
    "        max_threshold = threshold\n",
    "    tps.append(correct)\n",
    "print(max_correct, max_threshold)\n",
    "plt.plot(threshold_vals, tps)\n",
    "plt.show()"
   ]
  },
  {
   "cell_type": "markdown",
   "id": "9a6c4774-dbe8-47cb-b5dd-564caf703211",
   "metadata": {},
   "source": [
    "## First Pass"
   ]
  },
  {
   "cell_type": "code",
   "execution_count": 20,
   "id": "874fdc5d-a6fc-45cf-89fc-5b08ff0533d8",
   "metadata": {},
   "outputs": [
    {
     "name": "stdout",
     "output_type": "stream",
     "text": [
      "tensor([0.7572], dtype=torch.float64, grad_fn=<SigmoidBackward0>)\n",
      "o1 tensor([0.6583], dtype=torch.float64, grad_fn=<SigmoidBackward0>)\n",
      "o2 tensor([0.3818], dtype=torch.float64, grad_fn=<SigmoidBackward0>)\n",
      "e1 tensor([0.0292], dtype=torch.float64, grad_fn=<MulBackward0>)\n",
      "e2 tensor([0.0550], dtype=torch.float64, grad_fn=<MulBackward0>)\n"
     ]
    }
   ],
   "source": [
    "enable_bias = True\n",
    "layer1 = nn.Linear(2,2, dtype=float, bias=enable_bias)\n",
    "if  enable_bias:\n",
    "    nn.init.constant_(layer1.bias, 0.0)\n",
    "nn.init.constant_(layer1.weight, 0.3)\n",
    "layer2 = nn.Linear(2,1, dtype=float, bias=enable_bias) \n",
    "nn.init.constant_(layer2.weight, 0.8)\n",
    "if enable_bias:\n",
    "    nn.init.constant_(layer2.bias, 0.0)\n",
    "model = nn.Sequential(layer1, nn.Sigmoid(), layer2, nn.Sigmoid())\n",
    "layers = [layer1, nn.Sigmoid(), layer2, nn.Sigmoid()]\n",
    "\n",
    "model.train()\n",
    "#output = what(input_3, layers)\n",
    "\n",
    "#print(output)\n",
    "output = model(input_3)\n",
    "print(output)\n",
    "loss = 0.5*(output_3 - output)**2\n",
    "loss.backward()\n",
    "#output = what(input_3, layers)\n",
    "for i in range(15):\n",
    "    for param in model.parameters():\n",
    "        param.grad = None\n",
    "    output = model(input_1)\n",
    "    loss = 0.5*(output_1 - output)**2\n",
    "    loss.backward()\n",
    "    for param in model.parameters():\n",
    "        param.data -= param.grad\n",
    "    for param in model.parameters():\n",
    "        param.grad = None\n",
    "    output = model(input_2)\n",
    "    loss = 0.5*(output_2 - output)**2\n",
    "    loss.backward()\n",
    "    for param in model.parameters():\n",
    "        param.data -= param.grad\n",
    "        \n",
    "print('o1', model(input_1))\n",
    "print('o2', model(input_2))\n",
    "print('e1', 0.5*(output_1 - model(input_1))**2)\n",
    "print('e2', 0.5*(output_2 - model(input_2))**2)"
   ]
  },
  {
   "cell_type": "code",
   "execution_count": 21,
   "id": "5ac4a864-03f4-4bc3-a8d0-5782f8b7ee35",
   "metadata": {},
   "outputs": [
    {
     "name": "stdout",
     "output_type": "stream",
     "text": [
      "tensor([0.7572], dtype=torch.float64, grad_fn=<SigmoidBackward0>)\n",
      "o1 tensor([0.4217], dtype=torch.float64, grad_fn=<SigmoidBackward0>)\n",
      "o2 tensor([0.2838], dtype=torch.float64, grad_fn=<SigmoidBackward0>)\n",
      "e1 tensor([0.1144], dtype=torch.float64, grad_fn=<MulBackward0>)\n",
      "e2 tensor([0.0273], dtype=torch.float64, grad_fn=<MulBackward0>)\n"
     ]
    }
   ],
   "source": [
    "enable_bias = True\n",
    "layer1 = nn.Linear(2,2, dtype=float, bias=enable_bias)\n",
    "if  enable_bias:\n",
    "    nn.init.constant_(layer1.bias, 0.0)\n",
    "nn.init.constant_(layer1.weight, 0.3)\n",
    "layer2 = nn.Linear(2,1, dtype=float, bias=enable_bias) \n",
    "nn.init.constant_(layer2.weight, 0.8)\n",
    "if enable_bias:\n",
    "    nn.init.constant_(layer2.bias, 0.0)\n",
    "model = nn.Sequential(layer1, nn.Sigmoid(), layer2, nn.Sigmoid())\n",
    "layers = [layer1, nn.Sigmoid(), layer2, nn.Sigmoid()]\n",
    "\n",
    "model.train()\n",
    "#output = what(input_3, layers)\n",
    "\n",
    "#print(output)\n",
    "output = model(input_3)\n",
    "print(output)\n",
    "loss = 0.5*(output_3 - output)**2\n",
    "loss.backward()\n",
    "#output = what(input_3, layers)\n",
    "for i in range(15):\n",
    "    for param in model.parameters():\n",
    "        param.grad = None\n",
    "    output = model(input_1)\n",
    "    loss = 0.5*(output_1 - output)**2\n",
    "    loss.backward()\n",
    "    for param in model.parameters():\n",
    "        param.data -= param.grad\n",
    "for i in range(15):\n",
    "    for param in model.parameters():\n",
    "        param.grad = None\n",
    "    output = model(input_2)\n",
    "    loss = 0.5*(output_2 - output)**2\n",
    "    loss.backward()\n",
    "    for param in model.parameters():\n",
    "        param.data -= param.grad\n",
    "        \n",
    "print('o1', model(input_1))\n",
    "print('o2', model(input_2))\n",
    "print('e1', 0.5*(output_1 - model(input_1))**2)\n",
    "print('e2', 0.5*(output_2 - model(input_2))**2)"
   ]
  },
  {
   "cell_type": "code",
   "execution_count": null,
   "id": "7a78467a-e96c-487b-b9c1-69f164382878",
   "metadata": {},
   "outputs": [],
   "source": []
  }
 ],
 "metadata": {
  "kernelspec": {
   "display_name": "Python 3 (ipykernel)",
   "language": "python",
   "name": "python3"
  },
  "language_info": {
   "codemirror_mode": {
    "name": "ipython",
    "version": 3
   },
   "file_extension": ".py",
   "mimetype": "text/x-python",
   "name": "python",
   "nbconvert_exporter": "python",
   "pygments_lexer": "ipython3",
   "version": "3.11.10"
  }
 },
 "nbformat": 4,
 "nbformat_minor": 5
}
